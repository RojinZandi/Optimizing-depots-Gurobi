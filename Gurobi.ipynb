{
 "cells": [
  {
   "cell_type": "code",
   "execution_count": 28,
   "metadata": {},
   "outputs": [],
   "source": [
    "import h5py\n",
    "import gurobipy as gp\n",
    "from gurobipy import GRB\n",
    "import numpy as np\n",
    "\n",
    "from matplotlib import pyplot as plt"
   ]
  },
  {
   "cell_type": "markdown",
   "metadata": {},
   "source": [
    "### Model for Q1 and Q2"
   ]
  },
  {
   "cell_type": "code",
   "execution_count": 29,
   "metadata": {},
   "outputs": [],
   "source": [
    "def dist(c_i, c_j):\n",
    "    return np.linalg.norm(c_i - c_j)"
   ]
  },
  {
   "cell_type": "code",
   "execution_count": 30,
   "metadata": {},
   "outputs": [],
   "source": [
    "def model1(N, d_max, n_min, n_max, pairings, distances):\n",
    "    m = gp.Model('milp')\n",
    "\n",
    "    m.Params.LogToConsole = 0   # comment to show the log of optimization results\n",
    "    \n",
    "    M = 1000000000\n",
    "\n",
    "    # decision variables\n",
    "    D_k = m.addVars(range(N), vtype='B', name='D_k')\n",
    "    a_ik = m.addVars(pairings.keys(), vtype='B', name='a_ik')\n",
    "    w_ij = m.addVars(distances.keys(), vtype='B', name='w_ij')\n",
    "\n",
    "    # objective function\n",
    "    obj_fun = D_k.sum()\n",
    "    m.setObjective(obj_fun, GRB.MINIMIZE)\n",
    "\n",
    "    # constraints\n",
    "    # 1. each client is assigned to one and only one depot\n",
    "    m.addConstrs((a_ik.sum(client, \"*\") == 1\n",
    "                for client in range(N)),\n",
    "                name=\"unique assignment\")\n",
    "                \n",
    "    # 2. lower/upper bound of the number of clients in one depot\n",
    "    for k in range(N):\n",
    "        m.addConstr(a_ik.sum('*', k) <= D_k[k] * n_max)\n",
    "\n",
    "    for k in range(N):\n",
    "        m.addConstr(a_ik.sum('*', k) >= D_k[k] * n_min)\n",
    "\n",
    "    # 3. distance requirement\n",
    "    for k in range(N):\n",
    "        for i in range(N):\n",
    "            for j in range(i+1, N):\n",
    "                m.addConstr(d_max >= distances[i, j] - M * (1 - w_ij[i, j]))\n",
    "                m.addConstr(a_ik[i, k] + a_ik[j, k] <=  1 + M * w_ij[i, j])\n",
    "    \n",
    "    m.update()\n",
    "    return m"
   ]
  },
  {
   "cell_type": "code",
   "execution_count": 31,
   "metadata": {},
   "outputs": [],
   "source": [
    "def solveModel(m):\n",
    "    m.optimize()"
   ]
  },
  {
   "cell_type": "code",
   "execution_count": 32,
   "metadata": {},
   "outputs": [],
   "source": [
    "from collections import defaultdict\n",
    "\n",
    "def analyzeModel(m):\n",
    "    minNumDepot = m.ObjBound\n",
    "\n",
    "    re = defaultdict(list)\n",
    "    if minNumDepot != float('inf'):\n",
    "        for v in m.getVars():  \n",
    "            if v.varName[0] == 'a' and int(v.x) == 1:\n",
    "                pair = v.varName[5:len(v.varName)-1].split(',')\n",
    "                client, depot = int(pair[0]), int(pair[1])\n",
    "                re[depot].append(client)\n",
    "\n",
    "    return minNumDepot, re"
   ]
  },
  {
   "cell_type": "markdown",
   "metadata": {},
   "source": [
    "### Q1"
   ]
  },
  {
   "cell_type": "code",
   "execution_count": 33,
   "metadata": {},
   "outputs": [],
   "source": [
    "# read data and set the variables\n",
    "\n",
    "data = {1: [\"X1-3.jld\", 10, 2, 8], 2: [\"X2-2.jld\", 9, 4, 6], 3: [\"X3-2.jld\", 9, 4, 6]}"
   ]
  },
  {
   "cell_type": "code",
   "execution_count": 39,
   "metadata": {},
   "outputs": [],
   "source": [
    "def q1(instance_id):\n",
    "    # change date[i] to select the instance\n",
    "    instance, d_max, n_min, n_max = data[instance_id]\n",
    "\n",
    "    f = h5py.File(instance, 'r')\n",
    "    X = np.transpose(f['X'])\n",
    "\n",
    "    N = len(X)\n",
    "\n",
    "    distances = {(client1, client2): dist(X[client1], X[client2]) for client1 in range(N) for client2 in range(client1+1, N)}\n",
    "    pairings = {(client, depot): 0 for client in range(N) for depot in range(N)}\n",
    "\n",
    "    model = model1(N, d_max, n_min, n_max, pairings, distances)\n",
    "    solveModel(model)\n",
    "    minNumDepot, assignment = analyzeModel(model)\n",
    "    \n",
    "    if minNumDepot == float('inf'):\n",
    "        print('No Feasible Solution for instance %d' % instance_id)\n",
    "        return\n",
    "\n",
    "    plt.title('Depot Assignment for Instance %d' % instance_id)\n",
    "    for depot, clients in assignment.items():\n",
    "        print(depot, clients)\n",
    "        plt.xlabel('x-coordinate of clients')\n",
    "        plt.ylabel('y-coordinate of clients')\n",
    "        plt.scatter(X[clients][:, 0], X[clients][:, 1])\n",
    "\n",
    "    plt.show()\n",
    "    return"
   ]
  },
  {
   "cell_type": "code",
   "execution_count": 40,
   "metadata": {},
   "outputs": [
    {
     "name": "stdout",
     "output_type": "stream",
     "text": [
      "3 [0, 1, 2, 3]\n",
      "1 [4, 6, 9, 13, 14, 16, 19]\n",
      "2 [5, 7, 8, 10, 11, 12]\n",
      "0 [15, 17, 18, 20, 21, 22, 23, 24]\n"
     ]
    },
    {
     "data": {
      "image/png": "[encoded data removed]",
      "text/plain": [
       "<Figure size 432x288 with 1 Axes>"
      ]
     },
     "metadata": {
      "needs_background": "light"
     },
     "output_type": "display_data"
    },
    {
     "name": "stdout",
     "output_type": "stream",
     "text": [
      "1 [0, 4, 18, 21, 23]\n",
      "4 [1, 3, 5, 7, 13]\n",
      "0 [2, 14, 22, 24]\n",
      "3 [6, 10, 11, 12, 15, 17]\n",
      "2 [8, 9, 16, 19, 20]\n"
     ]
    },
    {
     "data": {
      "image/png": "[encoded data removed]",
      "text/plain": [
       "<Figure size 432x288 with 1 Axes>"
      ]
     },
     "metadata": {
      "needs_background": "light"
     },
     "output_type": "display_data"
    },
    {
     "name": "stdout",
     "output_type": "stream",
     "text": [
      "No Feasible Solution for instance 3\n"
     ]
    }
   ],
   "source": [
    "for k in data:\n",
    "    q1(k)"
   ]
  },
  {
   "cell_type": "markdown",
   "metadata": {},
   "source": [
    "### Q2"
   ]
  },
  {
   "cell_type": "code",
   "execution_count": 93,
   "metadata": {},
   "outputs": [],
   "source": [
    "def q2(instance_id):\n",
    "    # change date[i] to select the instance\n",
    "    instance, d_max, n_min, n_max = data[instance_id]\n",
    "\n",
    "    f = h5py.File(instance, 'r')\n",
    "    X = np.transpose(f['X'])\n",
    "\n",
    "    N = len(X)\n",
    "\n",
    "    distances = {(client1, client2): dist(X[client1], X[client2]) for client1 in range(N) for client2 in range(client1+1, N)}\n",
    "    pairings = {(client, depot): 0 for client in range(N) for depot in range(N)}\n",
    "\n",
    "    # change the following variable and the corresponding ones in the while loop to n_min, n_max, d_max\n",
    "    d_max = 0\n",
    "\n",
    "    # change the while consition here to obtain different results\n",
    "    while d_max <= 30:\n",
    "        model = model1(N, d_max, n_min, n_max, pairings, distances)\n",
    "        solveModel(model)\n",
    "        minNumDepot, assignment = analyzeModel(model)\n",
    "\n",
    "        plt.title('Depot Assignment for Instance %d (d_max = %d)' % (instance_id, d_max))\n",
    "        for depot, clients in assignment.items():\n",
    "            print(depot, clients)\n",
    "            plt.xlabel('x-coordinate of clients')\n",
    "            plt.ylabel('y-coordinate of clients')\n",
    "            plt.scatter(X[clients][:, 0], X[clients][:, 1])\n",
    "\n",
    "        plt.show()\n",
    "        d_max += 1\n",
    "\n",
    "    return "
   ]
  },
  {
   "cell_type": "code",
   "execution_count": 96,
   "metadata": {},
   "outputs": [],
   "source": [
    "# call q2 to see the results\n",
    "\n",
    "# q2(3)"
   ]
  },
  {
   "cell_type": "code",
   "execution_count": null,
   "metadata": {},
   "outputs": [],
   "source": []
  }
 ],
 "metadata": {
  "interpreter": {
   "hash": "40d3a090f54c6569ab1632332b64b2c03c39dcf918b08424e98f38b5ae0af88f"
  },
  "kernelspec": {
   "display_name": "Python 3.8.8 64-bit ('base': conda)",
   "language": "python",
   "name": "python3"
  },
  "language_info": {
   "codemirror_mode": {
    "name": "ipython",
    "version": 3
   },
   "file_extension": ".py",
   "mimetype": "text/x-python",
   "name": "python",
   "nbconvert_exporter": "python",
   "pygments_lexer": "ipython3",
   "version": "3.8.8"
  },
  "orig_nbformat": 4
 },
 "nbformat": 4,
 "nbformat_minor": 2
}
